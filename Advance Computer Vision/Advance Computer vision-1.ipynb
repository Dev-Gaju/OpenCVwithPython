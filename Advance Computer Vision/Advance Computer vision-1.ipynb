{
 "cells": [
  {
   "cell_type": "code",
   "execution_count": 1,
   "id": "9994a2d3",
   "metadata": {},
   "outputs": [],
   "source": [
    "import cv2\n",
    "import mediapipe as mp"
   ]
  },
  {
   "cell_type": "code",
   "execution_count": 2,
   "id": "833b4b2f",
   "metadata": {
    "scrolled": true
   },
   "outputs": [],
   "source": [
    "import mediapipe as mp"
   ]
  },
  {
   "cell_type": "markdown",
   "id": "46f8055a",
   "metadata": {},
   "source": [
    " ## Hand Detection Module"
   ]
  },
  {
   "cell_type": "code",
   "execution_count": 4,
   "id": "b77a636e",
   "metadata": {},
   "outputs": [],
   "source": [
    "cap= cv2.VideoCapture(0)"
   ]
  },
  {
   "cell_type": "code",
   "execution_count": 3,
   "id": "58a015b3",
   "metadata": {},
   "outputs": [],
   "source": [
    "import time"
   ]
  },
  {
   "cell_type": "code",
   "execution_count": 6,
   "id": "287064e2",
   "metadata": {},
   "outputs": [],
   "source": [
    "#want point number 5 from hand\n",
    "\n",
    "mpHand= mp.solutions.hands\n",
    "hands= mpHand.Hands() #have default parameter  #staticlavel= false mean faster \n",
    "mpDraw= mp.solutions.drawing_utils\n",
    "\n",
    "#time set\n",
    "pTime=0\n",
    "cTime= 0"
   ]
  },
  {
   "cell_type": "code",
   "execution_count": 2,
   "id": "b4811f15",
   "metadata": {},
   "outputs": [],
   "source": [
    "while True:\n",
    "    success, img= cap.read()\n",
    "    imgRGB= cv2.cvtColor(img, cv2.COLOR_BGR2RGB)\n",
    "    results =hands.process(imgRGB)\n",
    "    #extract multiple hands\n",
    "#     print(results.multi_hand_landmarks)\n",
    "    if results.multi_hand_landmarks:\n",
    "        for handLms in results.multi_hand_landmarks:  #each hands\n",
    "            #check the id and landmarks\n",
    "            for id, lm in enumerate(handLms.landmark):\n",
    "                \n",
    "                #0 is bottom middle\n",
    "                #land mark have x,y,z \n",
    "                #location in pixel given ratio of image\n",
    "                #print(id, landmark)\n",
    "                h,w,c=img.shape  #height, width, channel\n",
    "                cx, cy=int(lm.x*w), int(lm.y*h) \n",
    "                #position of center \n",
    "                #print(id, cx, xy)\n",
    "                if id==0:  #first landmark\n",
    "                    cv2.circle(img, (cx,cy), 10,(255,0,255), cv2.FILLED)     \n",
    "            mpDraw.draw_landmarks(img, handLms, mpHand.HAND_CONNECTIONS)  # HAND_CONNECTIONS draw connection    \n",
    "            #got hand connection with 21 landmarks\n",
    "    \n",
    "    cTime= time.time()\n",
    "    fps=1/(cTime-pTime)\n",
    "    pTime= cTime\n",
    "    \n",
    "    cv2.putText(img, str(int(fps)), (10,70), cv2.FONT_HERSHEY_PLAIN,3,(255,0,255),3)   #tesxt on video\n",
    "    cv2.imshow(\"Image\", img)\n",
    "    cv2.waitKey()\n",
    "    cv2.startWindowThread()"
   ]
  },
  {
   "cell_type": "markdown",
   "id": "a3a848d3",
   "metadata": {},
   "source": [
    "# make module for hand detector"
   ]
  },
  {
   "cell_type": "code",
   "execution_count": null,
   "id": "1d704905",
   "metadata": {},
   "outputs": [],
   "source": []
  }
 ],
 "metadata": {
  "kernelspec": {
   "display_name": "Python 3 (ipykernel)",
   "language": "python",
   "name": "python3"
  },
  "language_info": {
   "codemirror_mode": {
    "name": "ipython",
    "version": 3
   },
   "file_extension": ".py",
   "mimetype": "text/x-python",
   "name": "python",
   "nbconvert_exporter": "python",
   "pygments_lexer": "ipython3",
   "version": "3.7.10"
  }
 },
 "nbformat": 4,
 "nbformat_minor": 5
}
