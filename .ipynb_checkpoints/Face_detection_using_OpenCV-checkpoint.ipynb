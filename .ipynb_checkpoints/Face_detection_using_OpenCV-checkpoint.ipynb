{
 "cells": [
  {
   "cell_type": "markdown",
   "metadata": {},
   "source": [
    "#### Face detection using harcascades"
   ]
  },
  {
   "cell_type": "code",
   "execution_count": 1,
   "metadata": {},
   "outputs": [],
   "source": [
    "#detect face on live camera\n",
    "import numpy as np\n",
    "import cv2 as cv\n",
    "import os"
   ]
  },
  {
   "cell_type": "code",
   "execution_count": 13,
   "metadata": {},
   "outputs": [
    {
     "data": {
      "text/plain": [
       "-1"
      ]
     },
     "execution_count": 13,
     "metadata": {},
     "output_type": "execute_result"
    }
   ],
   "source": [
    "img = cv.imread('Photos/group_people2.jpg')\n",
    "cv.imshow('A Woman', img)\n",
    "cv.waitKey(0)"
   ]
  },
  {
   "cell_type": "code",
   "execution_count": 3,
   "metadata": {},
   "outputs": [],
   "source": [
    "# harcascade actually try to detect the edges where the face actually yes or not"
   ]
  },
  {
   "cell_type": "code",
   "execution_count": 14,
   "metadata": {},
   "outputs": [
    {
     "data": {
      "text/plain": [
       "-1"
      ]
     },
     "execution_count": 14,
     "metadata": {},
     "output_type": "execute_result"
    }
   ],
   "source": [
    "gray =cv.cvtColor(img, cv.COLOR_BGR2GRAY)\n",
    "cv.imshow(\"A woman Gray Image\", gray)\n",
    "cv.waitKey(0)"
   ]
  },
  {
   "cell_type": "code",
   "execution_count": 18,
   "metadata": {},
   "outputs": [
    {
     "name": "stdout",
     "output_type": "stream",
     "text": [
      "Number of faces found 15\n"
     ]
    },
    {
     "data": {
      "text/plain": [
       "-1"
      ]
     },
     "execution_count": 18,
     "metadata": {},
     "output_type": "execute_result"
    }
   ],
   "source": [
    "# read harcascade variable\n",
    "haar_cascade =cv.CascadeClassifier('haar_face.xml')\n",
    "# now detect the face\n",
    "faces_rectangle=haar_cascade.detectMultiScale(gray, scaleFactor=1.1, minNeighbors=1)\n",
    "print(\"Number of faces found\",len(faces_rectangle))\n",
    "\n",
    "for (x,y,w,h) in faces_rectangle:\n",
    "    cv.rectangle(img, (x,y),(x+w, y+h), (0,255,0), thickness=2 )\n",
    "\n",
    "cv.imshow(\"Detected Faces\", img)\n",
    "cv.waitKey(0)"
   ]
  },
  {
   "cell_type": "markdown",
   "metadata": {},
   "source": [
    "### Face Recognition with OpenCV's built-in recognizer"
   ]
  },
  {
   "cell_type": "code",
   "execution_count": 4,
   "metadata": {},
   "outputs": [
    {
     "name": "stdout",
     "output_type": "stream",
     "text": [
      "['Alia', 'Anushka', 'Deepika', 'Katrina', 'SRK', 'Validation']\n"
     ]
    }
   ],
   "source": [
    "people= ['SRK', 'Alia', 'Anushka', 'Katrina', 'Deepika']\n",
    "p =[]\n",
    "for i in os.listdir(r\"C:\\Users\\gazur\\Desktop\\Related Content\\OpenCV with computer Vision\\Photos\\Face_detection_dataset\"):\n",
    "    p.append(i)\n",
    "print(p)"
   ]
  },
  {
   "cell_type": "code",
   "execution_count": 7,
   "metadata": {},
   "outputs": [],
   "source": [
    "#anothe way to read folder\n",
    "DIR=r\"C:\\Users\\gazur\\Desktop\\Related Content\\OpenCV with computer Vision\\Photos\\Face_detection_dataset\"\n",
    "haar_cascade =cv.CascadeClassifier('haar_face.xml')"
   ]
  },
  {
   "cell_type": "code",
   "execution_count": 8,
   "metadata": {},
   "outputs": [
    {
     "name": "stdout",
     "output_type": "stream",
     "text": [
      "Training Done-------\n"
     ]
    }
   ],
   "source": [
    "features=[]\n",
    "labels =[]\n",
    "def Create_train():\n",
    "    for person in people:\n",
    "        path=os.path.join(DIR, person)\n",
    "        label =people.index(person)\n",
    "        \n",
    "        for img in os.listdir(path):\n",
    "            img_path =os.path.join(path, img)\n",
    "            \n",
    "            img_array = cv.imread(img_path)\n",
    "            gray =cv.cvtColor(img_array, cv.COLOR_BGR2GRAY)\n",
    "            \n",
    "            #Bring haar_cascade\n",
    "            faces_rectangle =haar_cascade.detectMultiScale(gray,scaleFactor =1.1,minNeighbors=4)\n",
    "            \n",
    "            for (x,y,w,h) in faces_rectangle:\n",
    "                faces_roi =gray[y:y+h, x:x+w] #reason of interset\n",
    "                features.append(faces_roi)  #collect feature\n",
    "                labels.append(label)  \n",
    "\n",
    "Create_train()     \n",
    "# print(\"Length of the feature List\", len(features))\n",
    "# print(\"Length of the Labels List\", len(labels))\n",
    "print(\"Training Done-------\")\n",
    "#featurs and label convert into numpy array\n",
    "features = np.array(features, dtype='object')\n",
    "labels =np.array(labels)\n",
    "\n",
    "face_recognizer = cv.face.LBPHFaceRecognizer_create()\n",
    "\n",
    "#Train the recognizer on the features and labels lsit\n",
    "face_recognizer.train(features,labels)\n",
    "#save source file\n",
    "face_recognizer.write('face_trained.yml')  #instead of save type write when run with same .py\n",
    "\n",
    "np.save('features.npy', features)\n",
    "np.save('labels.npy', labels)"
   ]
  },
  {
   "cell_type": "code",
   "execution_count": 9,
   "metadata": {},
   "outputs": [],
   "source": [
    "#face_recognition now\n"
   ]
  },
  {
   "cell_type": "code",
   "execution_count": 2,
   "metadata": {},
   "outputs": [],
   "source": [
    "haar_cascade =cv.CascadeClassifier('haar_face.xml')"
   ]
  },
  {
   "cell_type": "code",
   "execution_count": 5,
   "metadata": {},
   "outputs": [
    {
     "name": "stdout",
     "output_type": "stream",
     "text": [
      "label isSRKand confidence is 95.84393872000626\n"
     ]
    },
    {
     "data": {
      "text/plain": [
       "-1"
      ]
     },
     "execution_count": 5,
     "metadata": {},
     "output_type": "execute_result"
    }
   ],
   "source": [
    "features =np.load('features.npy',allow_pickle=True)\n",
    "labels =np.load('labels.npy')\n",
    "\n",
    "face_recognizer=cv.face.LBPHFaceRecognizer_create()\n",
    "face_recognizer.read('face_trained.yml')\n",
    "\n",
    "img=cv.imread(r'C:\\Users\\gazur\\Desktop\\Related Content\\OpenCV with computer Vision\\Photos\\Face_detection_dataset\\Validation\\SRK/SRK.jfif')\n",
    "\n",
    "gray=cv.cvtColor(img, cv.COLOR_BGR2GRAY)\n",
    "cv.imshow('person',gray)\n",
    "\n",
    "#detect the face of image\n",
    "faces_rectangle = haar_cascade.detectMultiScale(gray, 1.1, 4)\n",
    "\n",
    "for (x,y,w,h) in faces_rectangle:\n",
    "    face_roi= gray[y:y+h,x:x+h]\n",
    "    \n",
    "    label, confidence = face_recognizer.predict(face_roi)\n",
    "    print(f\"label is{people[label]}and confidence is {confidence}\")\n",
    "    \n",
    "    cv.putText(img, str(people[label]), (20,20), cv.FONT_HERSHEY_COMPLEX, 1.0, (0,255,0), 2)\n",
    "    cv.rectangle(img, (x,y), (x+w, y+h),(0,255,0), 2)\n",
    "\n",
    "cv.imshow(\"Detected Faces\", img)\n",
    "cv.waitKey(0)"
   ]
  },
  {
   "cell_type": "code",
   "execution_count": null,
   "metadata": {},
   "outputs": [],
   "source": []
  }
 ],
 "metadata": {
  "kernelspec": {
   "display_name": "Python 3",
   "language": "python",
   "name": "python3"
  },
  "language_info": {
   "codemirror_mode": {
    "name": "ipython",
    "version": 3
   },
   "file_extension": ".py",
   "mimetype": "text/x-python",
   "name": "python",
   "nbconvert_exporter": "python",
   "pygments_lexer": "ipython3",
   "version": "3.6.12"
  }
 },
 "nbformat": 4,
 "nbformat_minor": 4
}
